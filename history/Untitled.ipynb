{
 "cells": [
  {
   "cell_type": "code",
   "execution_count": 9,
   "id": "0f21390b",
   "metadata": {},
   "outputs": [],
   "source": [
    "# 크롤링 작업을 위한 라이브러리 임포트\n",
    "from bs4 import BeautifulSoup as bs\n",
    "from selenium import webdriver\n",
    "import requests\n",
    "import pandas as pd\n",
    "import json\n",
    "import time   # 코드 진행 지연을 위한 time 임포트\n",
    "from selenium.webdriver.common.by import By   # 2022년 7월 이후 selenium 업데이트로 인한 xpath 추적 임포트\n",
    "from selenium.webdriver.common.keys import Keys\n",
    "\n",
    "#########################################################\n",
    "####################  API  입력  부분  ####################\n",
    "#########################################################\n",
    "\n",
    "##### 카카오 주소를 좌표(위도, 경도)로 변환 api\n",
    "## 개인 api key를 할당 받아 적용\n",
    "api_key = '054a38bc8bc9ee2f8fadaaad44e27f97'\n",
    "def addr_to_lat_lon(addr, index):\n",
    "    url = f'https://dapi.kakao.com/v2/local/search/address.json?query={addr}'\n",
    "    #print(url)\n",
    "    headers = {\"Authorization\": \"KakaoAK \" + api_key}\n",
    "    result = json.loads(str(requests.get(url, headers=headers).text))\n",
    "    print(index, url)\n",
    "\n",
    "    match_first = result['documents'][0]['address']\n",
    "    return float(match_first['x']), float(match_first['y'])\n",
    "\n",
    "\n",
    "##### 카카오맵 minimap으로 생성\n",
    "## No module named 'folium' 라는 에러가 뜬다면\n",
    "## anaconda cmd 창에서 \"pip install folium\" 으로 설치\n",
    "import folium\n",
    "from folium.plugins import MiniMap\n",
    "\n",
    "def make_map(df, region):\n",
    "    # 해당 지역 시/도청 좌표 Search\n",
    "    yp = addr_to_lat_lon(region, index)[0]\n",
    "    xp = addr_to_lat_lon(region, index)[1]\n",
    "    \n",
    "    # 지도 생성하기\n",
    "    m = folium.Map(location=[xp,yp],   # 뽑은 좌표\n",
    "                   zoom_start=12)\n",
    "    # 미니맵 추가하기\n",
    "    minimap = MiniMap() \n",
    "    m.add_child(minimap)\n",
    "    # 마커 추가하기\n",
    "    for i in range(len(df.index)):\n",
    "        folium.Marker(location=[df['위도'].iloc[i],df['경도'].iloc[i]],\n",
    "                  popup=df['점수'].iloc[i],\n",
    "                  tooltip=[df['식당명'].iloc[i], \"\\n점수\", df['점수'].iloc[i]]\n",
    "                  ).add_to(m)\n",
    "    return m"
   ]
  },
  {
   "cell_type": "code",
   "execution_count": 91,
   "id": "99c7152e",
   "metadata": {},
   "outputs": [
    {
     "name": "stdout",
     "output_type": "stream",
     "text": [
      "검색을 원하는 지역의 '시, 도'를 입력해 주세요 : 경기도\n",
      "검색 범위(페이지)를 입력해주세요. : 1\n",
      "최대점수를 입력해 주세요(4.5 만점) : 3.5\n"
     ]
    }
   ],
   "source": [
    "region = str(input(\"검색을 원하는 지역의 \\'시, 도\\'를 입력해 주세요 : \"))\n",
    "page   = int(input(\"검색 범위(페이지)를 입력해주세요. : \"))\n",
    "starpoint = input(\"최대점수를 입력해 주세요(4.5 만점) : \")\n",
    "\n",
    "driver = webdriver.Chrome(\"chromedriver\")\n",
    "#### time.sleep() 을 주기적으로 넣어 서버 측에 부하를 막고, 사람으로 인식하도록 처리한다\n",
    "time.sleep(1)\n",
    "driver.get('https://map.kakao.com/')\n",
    "time.sleep(2)\n",
    "\n",
    "#### 입력 받은 region에 ' 식당\\n'이라는 string 을 추가해 날린다.\n",
    "#### 마지막에 '\\n'을 추가한 이유는 'enter'와 같은 기능을 한다고 보면 된다(검색어 입력)\n",
    "driver.find_element(By.XPATH, '//*[@id=\"search.keyword.query\"]').send_keys('%s 식당\\n' % region)\n",
    "time.sleep(2)\n",
    "\n",
    "#### 검색 완료 후, '정확도 순'에 맞춰 식당 데이터들을 정렬한다.\n",
    "driver.find_element(By.XPATH, '//*[@id=\"info.search.place.sort\"]/li[1]/a').send_keys(Keys.ENTER)\n",
    "time.sleep(2)\n",
    "\n",
    "n_list = []   # 식당 이름 리스트\n",
    "s_list = []   # 식당 별점 리스트\n",
    "a_list = []   # 식당 주소 리스트\n",
    "px_list = []  # 경도 리스트\n",
    "py_list = []  # 위도 리스트\n",
    "ka_dict = {}  # 별점에 따른 가게를 담을 딕셔너리"
   ]
  },
  {
   "cell_type": "code",
   "execution_count": 93,
   "id": "af3fc5a4",
   "metadata": {},
   "outputs": [],
   "source": [
    "source = driver.page_source\n",
    "parsed_source = bs(source, 'html.parser')\n",
    "\n",
    "names_div_list = parsed_source.find_all(\"li\",class_ = 'PlaceItem clickArea')        # 가게명\n",
    "names_span_list = parsed_source.find_all('span', class_ = 'screen_out')"
   ]
  },
  {
   "cell_type": "code",
   "execution_count": 96,
   "id": "9178ce1d",
   "metadata": {
    "collapsed": true
   },
   "outputs": [
    {
     "data": {
      "text/plain": [
       "[<span class=\"screen_out\">더보기 메뉴</span>,\n",
       " <span class=\"screen_out\" data-id=\"screenOutName\">동동국수집</span>,\n",
       " <span class=\"screen_out\">별점</span>,\n",
       " <span class=\"screen_out\" data-id=\"screenOutName\">진미통닭</span>,\n",
       " <span class=\"screen_out\">별점</span>,\n",
       " <span class=\"screen_out\" data-id=\"screenOutName\">김네집</span>,\n",
       " <span class=\"screen_out\">별점</span>,\n",
       " <span class=\"screen_out\" data-id=\"screenOutName\">포폴로피자 PIZZERIA DEL POPOLO</span>,\n",
       " <span class=\"screen_out\">별점</span>,\n",
       " <span class=\"screen_out\" data-id=\"screenOutName\">나랏님이천쌀밥 본관</span>,\n",
       " <span class=\"screen_out\">별점</span>,\n",
       " <span class=\"screen_out\" data-id=\"screenOutName\">허기숙할머니 원조오뎅식당 의정부본점</span>,\n",
       " <span class=\"screen_out\">별점</span>,\n",
       " <span class=\"screen_out\" data-id=\"screenOutName\">북한강막국수닭갈비</span>,\n",
       " <span class=\"screen_out\">별점</span>,\n",
       " <span class=\"screen_out\" data-id=\"screenOutName\">미가훠궈양고기</span>,\n",
       " <span class=\"screen_out\">별점</span>,\n",
       " <span class=\"screen_out\" data-id=\"screenOutName\">설악막국수춘천닭갈비</span>,\n",
       " <span class=\"screen_out\">별점</span>,\n",
       " <span class=\"screen_out\" data-id=\"screenOutName\">하우스베이커리</span>,\n",
       " <span class=\"screen_out\">별점</span>,\n",
       " <span class=\"screen_out\" data-id=\"screenOutName\">베니어베이커리카페</span>,\n",
       " <span class=\"screen_out\">별점</span>,\n",
       " <span class=\"screen_out\" data-id=\"screenOutName\">내추럴가든529</span>,\n",
       " <span class=\"screen_out\">별점</span>,\n",
       " <span class=\"screen_out\" data-id=\"screenOutName\">꼬꼬오리주물럭</span>,\n",
       " <span class=\"screen_out\">별점</span>,\n",
       " <span class=\"screen_out\" data-id=\"screenOutName\">기와집순두부 조안본점</span>,\n",
       " <span class=\"screen_out\">별점</span>,\n",
       " <span class=\"screen_out\" data-id=\"screenOutName\">심학산도토리국수 본점</span>,\n",
       " <span class=\"screen_out\">별점</span>,\n",
       " <span class=\"screen_out\">선택내용 : </span>,\n",
       " <span class=\"screen_out\">선택상자</span>,\n",
       " <span class=\"screen_out\">스토어뷰 촬영 월</span>,\n",
       " <span class=\"screen_out\">현위치</span>,\n",
       " <span class=\"screen_out\">노선</span>,\n",
       " <span class=\"screen_out\">노선도</span>,\n",
       " <span class=\"screen_out\">출발역 포인터</span>,\n",
       " <span class=\"screen_out\">경로 지우기</span>,\n",
       " <span class=\"screen_out\">도착역 포인터</span>,\n",
       " <span class=\"screen_out\">경로 지우기</span>,\n",
       " <span class=\"screen_out\">현재페이지 URL복사</span>,\n",
       " <span class=\"screen_out\">레이어</span>,\n",
       " <span class=\"screen_out\">선택내용 : </span>,\n",
       " <span class=\"screen_out\">레이어</span>,\n",
       " <span class=\"screen_out\">레이어</span>]"
      ]
     },
     "execution_count": 96,
     "metadata": {},
     "output_type": "execute_result"
    }
   ],
   "source": [
    "names_span_list"
   ]
  },
  {
   "cell_type": "code",
   "execution_count": 97,
   "id": "653a7f9a",
   "metadata": {},
   "outputs": [],
   "source": [
    "div_scores = parsed_source.find_all('em', class_ = \"num\")      # 점수\n",
    "#del div_scores[-1]\n",
    "for i in range(len(div_scores)):\n",
    "    scores = div_scores[i].text\n",
    "    s_list.append(scores)"
   ]
  },
  {
   "cell_type": "code",
   "execution_count": 99,
   "id": "a97f6447",
   "metadata": {},
   "outputs": [
    {
     "data": {
      "text/plain": [
       "[<em class=\"num\" data-id=\"scoreNum\" title=\"3.6점\">3.6</em>,\n",
       " <em class=\"num\" data-id=\"scoreNum\" title=\"3.0점\">3.0</em>,\n",
       " <em class=\"num\" data-id=\"scoreNum\" title=\"3.6점\">3.6</em>,\n",
       " <em class=\"num\" data-id=\"scoreNum\"></em>,\n",
       " <em class=\"num\" data-id=\"scoreNum\" title=\"2.0점\">2.0</em>,\n",
       " <em class=\"num\" data-id=\"scoreNum\" title=\"3.4점\">3.4</em>,\n",
       " <em class=\"num\" data-id=\"scoreNum\" title=\"3.9점\">3.9</em>,\n",
       " <em class=\"num\" data-id=\"scoreNum\" title=\"4.0점\">4.0</em>,\n",
       " <em class=\"num\" data-id=\"scoreNum\" title=\"4.1점\">4.1</em>,\n",
       " <em class=\"num\" data-id=\"scoreNum\" title=\"2.4점\">2.4</em>,\n",
       " <em class=\"num\" data-id=\"scoreNum\" title=\"2.4점\">2.4</em>,\n",
       " <em class=\"num\" data-id=\"scoreNum\" title=\"3.1점\">3.1</em>,\n",
       " <em class=\"num\" data-id=\"scoreNum\" title=\"3.9점\">3.9</em>,\n",
       " <em class=\"num\" data-id=\"scoreNum\" title=\"3.4점\">3.4</em>,\n",
       " <em class=\"num\" data-id=\"scoreNum\" title=\"3.7점\">3.7</em>,\n",
       " <em class=\"num\" data-id=\"reviewCount\">0</em>]"
      ]
     },
     "execution_count": 99,
     "metadata": {},
     "output_type": "execute_result"
    }
   ],
   "source": [
    "div_scores"
   ]
  },
  {
   "cell_type": "code",
   "execution_count": 92,
   "id": "007650c0",
   "metadata": {
    "collapsed": true
   },
   "outputs": [
    {
     "name": "stdout",
     "output_type": "stream",
     "text": [
      "0 https://dapi.kakao.com/v2/local/search/address.json?query=경기 남양주시 조안면 북한강로 914\n",
      "0 https://dapi.kakao.com/v2/local/search/address.json?query=경기 남양주시 조안면 북한강로 914\n",
      "1 https://dapi.kakao.com/v2/local/search/address.json?query=경기 파주시 지목로 114\n",
      "1 https://dapi.kakao.com/v2/local/search/address.json?query=경기 파주시 지목로 114\n",
      "2 https://dapi.kakao.com/v2/local/search/address.json?query=경기 용인시 수지구 이종무로 157\n",
      "2 https://dapi.kakao.com/v2/local/search/address.json?query=경기 용인시 수지구 이종무로 157\n",
      "3 https://dapi.kakao.com/v2/local/search/address.json?query=경기 파주시 광탄면 기산로 329 2층\n",
      "3 https://dapi.kakao.com/v2/local/search/address.json?query=경기 파주시 광탄면 기산로 329 2층\n",
      "4 https://dapi.kakao.com/v2/local/search/address.json?query=경기 수원시 팔달구 장다리로 282\n",
      "4 https://dapi.kakao.com/v2/local/search/address.json?query=경기 수원시 팔달구 장다리로 282\n",
      "5 https://dapi.kakao.com/v2/local/search/address.json?query=경기 수원시 팔달구 중부대로223번길 41\n",
      "5 https://dapi.kakao.com/v2/local/search/address.json?query=경기 수원시 팔달구 중부대로223번길 41\n",
      "6 https://dapi.kakao.com/v2/local/search/address.json?query=경기 남양주시 불암산로39번길 9-2 1,2층\n",
      "6 https://dapi.kakao.com/v2/local/search/address.json?query=경기 남양주시 불암산로39번길 9-2 1,2층\n",
      "7 https://dapi.kakao.com/v2/local/search/address.json?query=경기 용인시 처인구 백령로 47\n",
      "7 https://dapi.kakao.com/v2/local/search/address.json?query=경기 용인시 처인구 백령로 47\n",
      "8 https://dapi.kakao.com/v2/local/search/address.json?query=경기 양주시 백석읍 기산로 423-19\n",
      "8 https://dapi.kakao.com/v2/local/search/address.json?query=경기 양주시 백석읍 기산로 423-19\n",
      "9 https://dapi.kakao.com/v2/local/search/address.json?query=경기 남양주시 순화궁로 492-6 1층\n",
      "9 https://dapi.kakao.com/v2/local/search/address.json?query=경기 남양주시 순화궁로 492-6 1층\n",
      "10 https://dapi.kakao.com/v2/local/search/address.json?query=경기 파주시 문산읍 반구정로85번길 13\n",
      "10 https://dapi.kakao.com/v2/local/search/address.json?query=경기 파주시 문산읍 반구정로85번길 13\n",
      "11 https://dapi.kakao.com/v2/local/search/address.json?query=경기 가평군 청평면 북한강로 2141\n",
      "11 https://dapi.kakao.com/v2/local/search/address.json?query=경기 가평군 청평면 북한강로 2141\n",
      "12 https://dapi.kakao.com/v2/local/search/address.json?query=경기 양평군 서종면 북한강로 992\n",
      "12 https://dapi.kakao.com/v2/local/search/address.json?query=경기 양평군 서종면 북한강로 992\n",
      "13 https://dapi.kakao.com/v2/local/search/address.json?query=경기 의정부시 동일로 204\n",
      "13 https://dapi.kakao.com/v2/local/search/address.json?query=경기 의정부시 동일로 204\n",
      "14 https://dapi.kakao.com/v2/local/search/address.json?query=경기 의정부시 동일로192번길 28-27\n",
      "14 https://dapi.kakao.com/v2/local/search/address.json?query=경기 의정부시 동일로192번길 28-27\n"
     ]
    }
   ],
   "source": [
    "source = driver.page_source\n",
    "parsed_source = bs(source, 'html.parser')\n",
    "\n",
    "names_div_list = parsed_source.find_all(\"li\",class_ = 'PlaceItem clickArea')        # 가게명\n",
    "names_span_list = parsed_source.find_all('span', class_ = 'screen_out')\n",
    "span_names = names_span_list[1:31:2]\n",
    "for i in range(len(span_names)):\n",
    "    names = span_names[i].text\n",
    "    n_list.append(names)\n",
    "\n",
    "\n",
    "div_scores = parsed_source.find_all('em', class_ = \"num\")                           # 점수\n",
    "del div_scores[-1]\n",
    "for i in range(len(div_scores)):\n",
    "    scores = div_scores[i].text\n",
    "    s_list.append(scores)\n",
    "\n",
    "\n",
    "div_address = parsed_source.find_all('div', class_ = \"addr\")                        # 주소\n",
    "for i in range(len(div_address)):\n",
    "    address = div_address[i].text.replace('\\n','').split('(지번)')[0]\n",
    "    try:\n",
    "        px_list.append(addr_to_lat_lon(address, i)[0])\n",
    "        py_list.append(addr_to_lat_lon(address, i)[1])\n",
    "    except:\n",
    "        pass\n",
    "    a_list.append(address)\n",
    "\n",
    "driver.find_element(By.XPATH,'//*[@id=\"info.search.page.no%s\"]' % (j+1)).send_keys(Keys.ENTER)        # 페이지 넘기기\n",
    "time.sleep(2)"
   ]
  },
  {
   "cell_type": "code",
   "execution_count": null,
   "id": "687e5aee",
   "metadata": {},
   "outputs": [],
   "source": []
  }
 ],
 "metadata": {
  "kernelspec": {
   "display_name": "Python 3 (ipykernel)",
   "language": "python",
   "name": "python3"
  },
  "language_info": {
   "codemirror_mode": {
    "name": "ipython",
    "version": 3
   },
   "file_extension": ".py",
   "mimetype": "text/x-python",
   "name": "python",
   "nbconvert_exporter": "python",
   "pygments_lexer": "ipython3",
   "version": "3.9.12"
  }
 },
 "nbformat": 4,
 "nbformat_minor": 5
}
