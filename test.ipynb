{
 "cells": [
  {
   "cell_type": "code",
   "execution_count": null,
   "id": "1c735d6a",
   "metadata": {},
   "outputs": [],
   "source": [
    "source = driver.page_source\n",
    "parsed_source = bs(source, 'html.parser')\n",
    "\n",
    "names_div_list = parsed_source.find_all(\"li\",class_ = 'PlaceItem clickArea')              \n",
    "names_span_list = parsed_source.find_all('span', class_ = 'screen_out')\n",
    "span_names = names_span_list[1:31:2]\n",
    "for i in range(len(span_names)):\n",
    "    names = span_names[i].text\n",
    "    n_list.append(names)\n",
    "\n",
    "div_scores = parsed_source.find_all('em', class_ = \"num\")\n",
    "del div_scores[-1]\n",
    "for i in range(len(div_scores)):\n",
    "    scores = div_scores[i].text\n",
    "    s_list.append(scores)\n",
    "\n",
    "div_address = parsed_source.find_all('div', class_ = \"addr\")\n",
    "for i in range(len(div_address)):\n",
    "    address = div_address[i].text.replace('\\n','').split('(지번)')[0]\n",
    "    try:\n",
    "        px_list.append(addr_to_lat_lon(address)[0])\n",
    "        py_list.append(addr_to_lat_lon(address)[1])\n",
    "    except:\n",
    "        print(f\"{i+1}번 가게 주소 데이터 error\")\n",
    "    a_list.append(address)\n",
    "time.sleep(2)"
   ]
  }
 ],
 "metadata": {
  "kernelspec": {
   "display_name": "Python 3 (ipykernel)",
   "language": "python",
   "name": "python3"
  },
  "language_info": {
   "codemirror_mode": {
    "name": "ipython",
    "version": 3
   },
   "file_extension": ".py",
   "mimetype": "text/x-python",
   "name": "python",
   "nbconvert_exporter": "python",
   "pygments_lexer": "ipython3",
   "version": "3.7.5"
  }
 },
 "nbformat": 4,
 "nbformat_minor": 5
}
